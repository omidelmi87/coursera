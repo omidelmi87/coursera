{
  "metadata": {
    "kernelspec": {
      "name": "python",
      "display_name": "Pyolite",
      "language": "python"
    },
    "language_info": {
      "codemirror_mode": {
        "name": "python",
        "version": 3
      },
      "file_extension": ".py",
      "mimetype": "text/x-python",
      "name": "python",
      "nbconvert_exporter": "python",
      "pygments_lexer": "ipython3",
      "version": "3.8"
    }
  },
  "nbformat_minor": 4,
  "nbformat": 4,
  "cells": [
    {
      "cell_type": "markdown",
      "source": "<center>\n    <img src=\"https://s3-api.us-geo.objectstorage.softlayer.net/cf-courses-data/CognitiveClass/Logos/organization_logo/organization_logo.png\" width=\"300\" alt=\"cognitiveclass.ai logo\"  />\n</center>\n",
      "metadata": {}
    },
    {
      "cell_type": "markdown",
      "source": "#### Add your code below following the instructions given in the course\n",
      "metadata": {}
    },
    {
      "cell_type": "markdown",
      "source": "<h1>My Jupyter Notebook on IBM Watson Studio</h1>",
      "metadata": {}
    },
    {
      "cell_type": "markdown",
      "source": "<b>Omid Elmi</b>\n<br>\nData Scientist",
      "metadata": {}
    },
    {
      "cell_type": "markdown",
      "source": "<i>I am interested in data science because I love working with data. I also love mathematics which I can use extensively as a data scientist.</i>",
      "metadata": {}
    },
    {
      "cell_type": "markdown",
      "source": "<h3>The following code defines a function to add two numbers given to the function as input. An example adding two numbers is given using the function.</h3>",
      "metadata": {}
    },
    {
      "cell_type": "code",
      "source": "def add(a,b):\n    return a + b\n\nadd(1, 2.5)",
      "metadata": {
        "trusted": true
      },
      "execution_count": 1,
      "outputs": [
        {
          "execution_count": 1,
          "output_type": "execute_result",
          "data": {
            "text/plain": "3.5"
          },
          "metadata": {}
        }
      ]
    },
    {
      "cell_type": "markdown",
      "source": "Why I am interested in data science:\n<ol>\n<li>Working with data</li>\n<li>Using mathematics</li>\n</ol>\n\n<hr>\nVirgil:\n<blockquote>Fortune favors the bold.</blockquote> ",
      "metadata": {}
    }
  ]
}